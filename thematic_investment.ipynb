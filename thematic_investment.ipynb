{
 "cells": [
  {
   "cell_type": "markdown",
   "metadata": {},
   "source": [
    "### Assumptions\n",
    "+ Mom & Pop Investors are long term value based investors looking to gain wealth over time\n",
    "+ They want to spend little to no time checking the returns and balancing once a quarter if needed\n",
    "+ They want to focus on fundamental factor models, for e.g. GreenBlatt's Magic Formula, which ranks companies based on fundamental ratios. \n",
    "+ Fractional Trading is allowed/ trade stocks with fractional trading enabled\n",
    "+ Wants to be able to diversify investments across different stocks. \n",
    "+ Universe for the backtest of the strategy is S&P 500 for the last 6 years of data, meaning any company that has existed in the S&P 500 is part of our selection to avoid 'Survivorship Bias'\n",
    "\n",
    "\n",
    "### Things to track\n",
    "+ Sharpe Ratio\n",
    "+ Portfolio Analysis\n",
    "+ vs Benchmark (S&P 500?!)\n",
    "+ Absolute Returns and Annualised Returns.\n",
    "\n",
    "### Productise \n",
    "+ Based on themes\n",
    "+ Asks for portfolio value they want to invest so that the algorithm can tell them which stocks to buy \n",
    "+ if stocks already in existing portfolio, they can upload with following columns - Stock Name, Number of Shares (fractional allowed), Dollar amount invested. Then the algorithm would give them the rebalance portfolio and how many shares to be sold.\n",
    "+ If no portfolio selected then they can use the theme to generate a portfolio based on the theme selected and number of stocks in their portfolio. "
   ]
  },
  {
   "cell_type": "code",
   "execution_count": 1,
   "metadata": {},
   "outputs": [
    {
     "name": "stderr",
     "output_type": "stream",
     "text": [
      "/var/folders/h2/4vckn0v11xs13gyyr0n4rx740000gn/T/ipykernel_31498/4184416864.py:40: UserWarning: pandas only supports SQLAlchemy connectable (engine/connection) or database string URI or sqlite3 DBAPI2 connection. Other DBAPI2 objects are not tested. Please consider using SQLAlchemy.\n",
      "  df = pd.read_sql(query, conn)\n"
     ]
    },
    {
     "data": {
      "text/html": [
       "<div>\n",
       "<style scoped>\n",
       "    .dataframe tbody tr th:only-of-type {\n",
       "        vertical-align: middle;\n",
       "    }\n",
       "\n",
       "    .dataframe tbody tr th {\n",
       "        vertical-align: top;\n",
       "    }\n",
       "\n",
       "    .dataframe thead th {\n",
       "        text-align: right;\n",
       "    }\n",
       "</style>\n",
       "<table border=\"1\" class=\"dataframe\">\n",
       "  <thead>\n",
       "    <tr style=\"text-align: right;\">\n",
       "      <th></th>\n",
       "      <th>QUARTER_END</th>\n",
       "      <th>SYMBOL</th>\n",
       "      <th>DATE</th>\n",
       "      <th>OPEN</th>\n",
       "      <th>HIGH</th>\n",
       "      <th>LOW</th>\n",
       "      <th>CLOSE</th>\n",
       "      <th>ADJCLOSE</th>\n",
       "      <th>VOLUME</th>\n",
       "      <th>UNADJUSTEDVOLUME</th>\n",
       "      <th>...</th>\n",
       "      <th>PRICEEARNINGSRATIO</th>\n",
       "      <th>PRICETOFREECASHFLOWSRATIO</th>\n",
       "      <th>PRICETOOPERATINGCASHFLOWSRATIO</th>\n",
       "      <th>PRICECASHFLOWRATIO</th>\n",
       "      <th>PRICEEARNINGSTOGROWTHRATIO</th>\n",
       "      <th>PRICESALESRATIO</th>\n",
       "      <th>DIVIDENDYIELD</th>\n",
       "      <th>ENTERPRISEVALUEMULTIPLE</th>\n",
       "      <th>PRICEFAIRVALUE</th>\n",
       "      <th>TARGET</th>\n",
       "    </tr>\n",
       "  </thead>\n",
       "  <tbody>\n",
       "    <tr>\n",
       "      <th>0</th>\n",
       "      <td>2023-12-31</td>\n",
       "      <td>A</td>\n",
       "      <td>2023-12-29</td>\n",
       "      <td>139.07</td>\n",
       "      <td>139.70</td>\n",
       "      <td>138.36</td>\n",
       "      <td>139.03</td>\n",
       "      <td>139.03</td>\n",
       "      <td>1014431</td>\n",
       "      <td>1014400</td>\n",
       "      <td>...</td>\n",
       "      <td>15.940742</td>\n",
       "      <td>70.109745</td>\n",
       "      <td>58.696531</td>\n",
       "      <td>58.696531</td>\n",
       "      <td>0.048460</td>\n",
       "      <td>17.942778</td>\n",
       "      <td>0.002179</td>\n",
       "      <td>62.365893</td>\n",
       "      <td>5.181764</td>\n",
       "      <td>-6.42</td>\n",
       "    </tr>\n",
       "    <tr>\n",
       "      <th>1</th>\n",
       "      <td>2023-09-30</td>\n",
       "      <td>A</td>\n",
       "      <td>2023-09-29</td>\n",
       "      <td>113.12</td>\n",
       "      <td>113.17</td>\n",
       "      <td>111.45</td>\n",
       "      <td>111.82</td>\n",
       "      <td>111.41</td>\n",
       "      <td>1830100</td>\n",
       "      <td>1830100</td>\n",
       "      <td>...</td>\n",
       "      <td>80.905743</td>\n",
       "      <td>74.682225</td>\n",
       "      <td>63.918416</td>\n",
       "      <td>63.918416</td>\n",
       "      <td>-1.289435</td>\n",
       "      <td>21.484539</td>\n",
       "      <td>0.001837</td>\n",
       "      <td>164.679075</td>\n",
       "      <td>6.463143</td>\n",
       "      <td>-7.56</td>\n",
       "    </tr>\n",
       "    <tr>\n",
       "      <th>2</th>\n",
       "      <td>2023-06-30</td>\n",
       "      <td>A</td>\n",
       "      <td>2023-06-30</td>\n",
       "      <td>118.73</td>\n",
       "      <td>120.69</td>\n",
       "      <td>118.30</td>\n",
       "      <td>120.25</td>\n",
       "      <td>119.81</td>\n",
       "      <td>2487900</td>\n",
       "      <td>2487900</td>\n",
       "      <td>...</td>\n",
       "      <td>33.456755</td>\n",
       "      <td>118.521290</td>\n",
       "      <td>101.547136</td>\n",
       "      <td>101.547136</td>\n",
       "      <td>-2.341973</td>\n",
       "      <td>23.538591</td>\n",
       "      <td>0.001633</td>\n",
       "      <td>88.927458</td>\n",
       "      <td>6.991136</td>\n",
       "      <td>1.26</td>\n",
       "    </tr>\n",
       "    <tr>\n",
       "      <th>3</th>\n",
       "      <td>2023-03-31</td>\n",
       "      <td>A</td>\n",
       "      <td>2023-03-31</td>\n",
       "      <td>135.40</td>\n",
       "      <td>138.73</td>\n",
       "      <td>134.86</td>\n",
       "      <td>138.34</td>\n",
       "      <td>137.34</td>\n",
       "      <td>2579800</td>\n",
       "      <td>2579800</td>\n",
       "      <td>...</td>\n",
       "      <td>32.079375</td>\n",
       "      <td>205.308000</td>\n",
       "      <td>152.593784</td>\n",
       "      <td>152.593784</td>\n",
       "      <td>-7.955685</td>\n",
       "      <td>25.721959</td>\n",
       "      <td>0.001483</td>\n",
       "      <td>93.403904</td>\n",
       "      <td>8.052730</td>\n",
       "      <td>-2.10</td>\n",
       "    </tr>\n",
       "    <tr>\n",
       "      <th>4</th>\n",
       "      <td>2022-12-31</td>\n",
       "      <td>A</td>\n",
       "      <td>2022-12-30</td>\n",
       "      <td>149.76</td>\n",
       "      <td>149.85</td>\n",
       "      <td>147.83</td>\n",
       "      <td>149.65</td>\n",
       "      <td>148.57</td>\n",
       "      <td>699800</td>\n",
       "      <td>699800</td>\n",
       "      <td>...</td>\n",
       "      <td>28.008356</td>\n",
       "      <td>109.069577</td>\n",
       "      <td>92.027455</td>\n",
       "      <td>92.027455</td>\n",
       "      <td>2.200657</td>\n",
       "      <td>22.297620</td>\n",
       "      <td>0.001504</td>\n",
       "      <td>77.938838</td>\n",
       "      <td>7.795103</td>\n",
       "      <td>1.62</td>\n",
       "    </tr>\n",
       "  </tbody>\n",
       "</table>\n",
       "<p>5 rows × 106 columns</p>\n",
       "</div>"
      ],
      "text/plain": [
       "  QUARTER_END SYMBOL        DATE    OPEN    HIGH     LOW   CLOSE  ADJCLOSE  \\\n",
       "0  2023-12-31      A  2023-12-29  139.07  139.70  138.36  139.03    139.03   \n",
       "1  2023-09-30      A  2023-09-29  113.12  113.17  111.45  111.82    111.41   \n",
       "2  2023-06-30      A  2023-06-30  118.73  120.69  118.30  120.25    119.81   \n",
       "3  2023-03-31      A  2023-03-31  135.40  138.73  134.86  138.34    137.34   \n",
       "4  2022-12-31      A  2022-12-30  149.76  149.85  147.83  149.65    148.57   \n",
       "\n",
       "    VOLUME  UNADJUSTEDVOLUME  ...  PRICEEARNINGSRATIO  \\\n",
       "0  1014431           1014400  ...           15.940742   \n",
       "1  1830100           1830100  ...           80.905743   \n",
       "2  2487900           2487900  ...           33.456755   \n",
       "3  2579800           2579800  ...           32.079375   \n",
       "4   699800            699800  ...           28.008356   \n",
       "\n",
       "   PRICETOFREECASHFLOWSRATIO  PRICETOOPERATINGCASHFLOWSRATIO  \\\n",
       "0                  70.109745                       58.696531   \n",
       "1                  74.682225                       63.918416   \n",
       "2                 118.521290                      101.547136   \n",
       "3                 205.308000                      152.593784   \n",
       "4                 109.069577                       92.027455   \n",
       "\n",
       "   PRICECASHFLOWRATIO  PRICEEARNINGSTOGROWTHRATIO  PRICESALESRATIO  \\\n",
       "0           58.696531                    0.048460        17.942778   \n",
       "1           63.918416                   -1.289435        21.484539   \n",
       "2          101.547136                   -2.341973        23.538591   \n",
       "3          152.593784                   -7.955685        25.721959   \n",
       "4           92.027455                    2.200657        22.297620   \n",
       "\n",
       "   DIVIDENDYIELD  ENTERPRISEVALUEMULTIPLE  PRICEFAIRVALUE  TARGET  \n",
       "0       0.002179                62.365893        5.181764   -6.42  \n",
       "1       0.001837               164.679075        6.463143   -7.56  \n",
       "2       0.001633                88.927458        6.991136    1.26  \n",
       "3       0.001483                93.403904        8.052730   -2.10  \n",
       "4       0.001504                77.938838        7.795103    1.62  \n",
       "\n",
       "[5 rows x 106 columns]"
      ]
     },
     "execution_count": 1,
     "metadata": {},
     "output_type": "execute_result"
    }
   ],
   "source": [
    "import snowflake.connector\n",
    "import pandas as pd\n",
    "from dotenv import load_dotenv\n",
    "import os\n",
    "\n",
    "load_dotenv()\n",
    "SNF_USER = os.getenv('snf_user')\n",
    "SNF_PASSWORD = os.getenv('snf_password')\n",
    "SNF_ACCOUNT = os.getenv('snf_account_name')\n",
    "SNF_WAREHOUSE = os.getenv('snf_warehouse')\n",
    "SNF_DATABASE = os.getenv('snf_db')\n",
    "SCHEMA = 'public'\n",
    "\n",
    "# Create a connection to Snowflake\n",
    "conn = snowflake.connector.connect(\n",
    "    user=SNF_USER,\n",
    "    password=SNF_PASSWORD,\n",
    "    account=SNF_ACCOUNT,\n",
    "    warehouse=SNF_WAREHOUSE,\n",
    "    database=SNF_DATABASE,\n",
    "    schema=SCHEMA\n",
    ")\n",
    "\n",
    "# SQL query to select data from the table as its monthly data so rolling it up to a quarterly data\n",
    "query = \"\"\"SELECT\n",
    "  *\n",
    "FROM\n",
    "    MODEL_DATA \n",
    "QUALIFY row_number() over (\n",
    "        partition by symbol,\n",
    "        quarter_end\n",
    "        order by\n",
    "            date desc\n",
    "    ) = 1\n",
    "order by\n",
    "    symbol,\n",
    "    date desc;\"\"\"\n",
    "\n",
    "# Execute the query and load the results into a pandas DataFrame\n",
    "df = pd.read_sql(query, conn)\n",
    "\n",
    "# Close the connection\n",
    "conn.close()\n",
    "\n",
    "# Display the DataFrame\n",
    "df.head()  # Show the first few rows of the DataFrame\n"
   ]
  },
  {
   "cell_type": "code",
   "execution_count": 2,
   "metadata": {},
   "outputs": [
    {
     "name": "stdout",
     "output_type": "stream",
     "text": [
      "Number of rows and columns: (13668, 106),and number of unique companies in df: 596\n"
     ]
    }
   ],
   "source": [
    "print(f\"Number of rows and columns: {df.shape},and number of unique companies in df: {df['SYMBOL'].nunique()}\")"
   ]
  },
  {
   "cell_type": "markdown",
   "metadata": {},
   "source": [
    "### calculate quarterly returns"
   ]
  },
  {
   "cell_type": "code",
   "execution_count": 3,
   "metadata": {},
   "outputs": [],
   "source": [
    "df.sort_values(by=['SYMBOL', 'DATE'], inplace=True)\n",
    "\n",
    "# Convert 'DATE' and 'QUARTER_END' to datetime if they're not already\n",
    "df['DATE'] = pd.to_datetime(df['DATE'])\n",
    "df['QUARTER_END'] = pd.to_datetime(df['QUARTER_END'])\n",
    "\n",
    "# Group by 'SYMBOL' and 'QUARTER_END' to calculate the first and last 'ADJCLOSE' in each group\n",
    "df['ADJCLOSE_START'] = df.groupby('SYMBOL')['ADJCLOSE'].shift(1)\n",
    "df['ADJCLOSE_END'] = df[\"ADJCLOSE\"]\n",
    "\n",
    "# Calculate quarterly return for each row\n",
    "df['QUARTERLY_RETURN'] = (df['ADJCLOSE_END'] - df['ADJCLOSE_START']) / df['ADJCLOSE_START']\n"
   ]
  },
  {
   "cell_type": "code",
   "execution_count": 4,
   "metadata": {},
   "outputs": [
    {
     "name": "stdout",
     "output_type": "stream",
     "text": [
      "Number of rows and columns: (13668, 109),and number of unique companies in df: 596\n"
     ]
    }
   ],
   "source": [
    "print(f\"Number of rows and columns: {df.shape},and number of unique companies in df: {df['SYMBOL'].nunique()}\")"
   ]
  },
  {
   "cell_type": "markdown",
   "metadata": {},
   "source": [
    "### ranking\n"
   ]
  },
  {
   "cell_type": "code",
   "execution_count": 5,
   "metadata": {},
   "outputs": [],
   "source": [
    "import pandas as pd\n",
    "import numpy as np\n",
    "\n",
    "\n",
    "# Step 0: Preprocessing to handle infinities and zeros in PRICEEARNINGSRATIO\n",
    "df['PRICEEARNINGSRATIO'] = df['PRICEEARNINGSRATIO'].replace({0: np.nan})  # Replace zeros with NaN if needed\n",
    "df['EARNINGS_YIELD'] = 1 / df['PRICEEARNINGSRATIO']\n",
    "df['ROC'] = df['RETURNONCAPITALEMPLOYED']\n",
    "df.replace([np.inf, -np.inf], np.nan, inplace=True)  # Replace infinities with NaN\n",
    "\n",
    "\n"
   ]
  },
  {
   "cell_type": "code",
   "execution_count": 6,
   "metadata": {},
   "outputs": [
    {
     "name": "stderr",
     "output_type": "stream",
     "text": [
      "/var/folders/h2/4vckn0v11xs13gyyr0n4rx740000gn/T/ipykernel_31498/3674109648.py:9: DeprecationWarning: DataFrameGroupBy.apply operated on the grouping columns. This behavior is deprecated, and in a future version of pandas the grouping columns will be excluded from the operation. Either pass `include_groups=False` to exclude the groupings or explicitly select the grouping columns after groupby to silence this warning.\n",
      "  top_companies_per_quarter = df.groupby('QUARTER_END').apply(select_top_companies)\n"
     ]
    }
   ],
   "source": [
    "\n",
    "# Function to select top companies based on Greenblatt's formula each quarter\n",
    "def select_top_companies(sub_df, top_n=30):\n",
    "    sub_df['RANK_EY'] = sub_df['EARNINGS_YIELD'].rank(ascending=False)\n",
    "    sub_df['RANK_ROC'] = sub_df['ROC'].rank(ascending=False)\n",
    "    sub_df['COMBINED_RANK'] = (sub_df['RANK_EY'] + sub_df['RANK_ROC']) / 2\n",
    "    return sub_df.nsmallest(top_n, 'COMBINED_RANK')\n",
    "\n",
    "# # Step 2: Rank and select companies each quarter\n",
    "top_companies_per_quarter = df.groupby('QUARTER_END').apply(select_top_companies)\n",
    "\n",
    "# # Step 3: Portfolio construction and quarterly return calculation\n",
    "top_companies_per_quarter.drop(['QUARTER_END'], axis = 1, inplace=True)\n",
    "top_companies_per_quarter['PORTFOLIO_WEIGHT'] = 1 / top_companies_per_quarter.groupby('QUARTER_END')['SYMBOL'].transform('count') # equal weightage\n",
    "top_companies_per_quarter['QUARTERLY_PORTFOLIO_RETURN'] = top_companies_per_quarter['QUARTERLY_RETURN'] * top_companies_per_quarter['PORTFOLIO_WEIGHT']\n",
    "quarterly_portfolio_returns = top_companies_per_quarter.groupby('QUARTER_END')['QUARTERLY_PORTFOLIO_RETURN'].sum()\n"
   ]
  },
  {
   "cell_type": "code",
   "execution_count": 57,
   "metadata": {},
   "outputs": [
    {
     "data": {
      "text/plain": [
       "204"
      ]
     },
     "execution_count": 57,
     "metadata": {},
     "output_type": "execute_result"
    }
   ],
   "source": [
    "top_companies_per_quarter.reset_index()[\"SYMBOL\"].nunique()"
   ]
  },
  {
   "cell_type": "markdown",
   "metadata": {},
   "source": [
    "#### Cumulative returns"
   ]
  },
  {
   "cell_type": "code",
   "execution_count": 7,
   "metadata": {},
   "outputs": [],
   "source": [
    "quarterly_portfolio_returns = pd.DataFrame(quarterly_portfolio_returns)\n",
    "quarterly_portfolio_returns['CUMULATIVE_RETURN'] = (np.ones_like(quarterly_portfolio_returns)+ quarterly_portfolio_returns).cumprod() -1"
   ]
  },
  {
   "cell_type": "code",
   "execution_count": 8,
   "metadata": {},
   "outputs": [
    {
     "data": {
      "text/html": [
       "<div>\n",
       "<style scoped>\n",
       "    .dataframe tbody tr th:only-of-type {\n",
       "        vertical-align: middle;\n",
       "    }\n",
       "\n",
       "    .dataframe tbody tr th {\n",
       "        vertical-align: top;\n",
       "    }\n",
       "\n",
       "    .dataframe thead th {\n",
       "        text-align: right;\n",
       "    }\n",
       "</style>\n",
       "<table border=\"1\" class=\"dataframe\">\n",
       "  <thead>\n",
       "    <tr style=\"text-align: right;\">\n",
       "      <th></th>\n",
       "      <th>QUARTERLY_PORTFOLIO_RETURN</th>\n",
       "      <th>CUMULATIVE_RETURN</th>\n",
       "    </tr>\n",
       "    <tr>\n",
       "      <th>QUARTER_END</th>\n",
       "      <th></th>\n",
       "      <th></th>\n",
       "    </tr>\n",
       "  </thead>\n",
       "  <tbody>\n",
       "    <tr>\n",
       "      <th>2018-03-31</th>\n",
       "      <td>0.000000</td>\n",
       "      <td>0.000000</td>\n",
       "    </tr>\n",
       "    <tr>\n",
       "      <th>2018-06-30</th>\n",
       "      <td>0.001435</td>\n",
       "      <td>0.001435</td>\n",
       "    </tr>\n",
       "    <tr>\n",
       "      <th>2018-09-30</th>\n",
       "      <td>0.000073</td>\n",
       "      <td>0.001508</td>\n",
       "    </tr>\n",
       "    <tr>\n",
       "      <th>2018-12-31</th>\n",
       "      <td>-0.208943</td>\n",
       "      <td>-0.207749</td>\n",
       "    </tr>\n",
       "    <tr>\n",
       "      <th>2019-03-31</th>\n",
       "      <td>0.090588</td>\n",
       "      <td>-0.135981</td>\n",
       "    </tr>\n",
       "    <tr>\n",
       "      <th>2019-06-30</th>\n",
       "      <td>0.048699</td>\n",
       "      <td>-0.093904</td>\n",
       "    </tr>\n",
       "    <tr>\n",
       "      <th>2019-09-30</th>\n",
       "      <td>0.014017</td>\n",
       "      <td>-0.081203</td>\n",
       "    </tr>\n",
       "    <tr>\n",
       "      <th>2019-12-31</th>\n",
       "      <td>0.103011</td>\n",
       "      <td>0.013443</td>\n",
       "    </tr>\n",
       "    <tr>\n",
       "      <th>2020-03-31</th>\n",
       "      <td>-0.282518</td>\n",
       "      <td>-0.272873</td>\n",
       "    </tr>\n",
       "    <tr>\n",
       "      <th>2020-06-30</th>\n",
       "      <td>0.236266</td>\n",
       "      <td>-0.101077</td>\n",
       "    </tr>\n",
       "    <tr>\n",
       "      <th>2020-09-30</th>\n",
       "      <td>0.138454</td>\n",
       "      <td>0.023383</td>\n",
       "    </tr>\n",
       "    <tr>\n",
       "      <th>2020-12-31</th>\n",
       "      <td>0.193042</td>\n",
       "      <td>0.220939</td>\n",
       "    </tr>\n",
       "    <tr>\n",
       "      <th>2021-03-31</th>\n",
       "      <td>0.211142</td>\n",
       "      <td>0.478730</td>\n",
       "    </tr>\n",
       "    <tr>\n",
       "      <th>2021-06-30</th>\n",
       "      <td>0.081453</td>\n",
       "      <td>0.599178</td>\n",
       "    </tr>\n",
       "    <tr>\n",
       "      <th>2021-09-30</th>\n",
       "      <td>0.032451</td>\n",
       "      <td>0.651072</td>\n",
       "    </tr>\n",
       "    <tr>\n",
       "      <th>2021-12-31</th>\n",
       "      <td>0.135248</td>\n",
       "      <td>0.874376</td>\n",
       "    </tr>\n",
       "    <tr>\n",
       "      <th>2022-03-31</th>\n",
       "      <td>0.063377</td>\n",
       "      <td>0.993169</td>\n",
       "    </tr>\n",
       "    <tr>\n",
       "      <th>2022-06-30</th>\n",
       "      <td>-0.071174</td>\n",
       "      <td>0.851307</td>\n",
       "    </tr>\n",
       "    <tr>\n",
       "      <th>2022-09-30</th>\n",
       "      <td>0.016841</td>\n",
       "      <td>0.882484</td>\n",
       "    </tr>\n",
       "    <tr>\n",
       "      <th>2022-12-31</th>\n",
       "      <td>0.140524</td>\n",
       "      <td>1.147019</td>\n",
       "    </tr>\n",
       "    <tr>\n",
       "      <th>2023-03-31</th>\n",
       "      <td>0.025118</td>\n",
       "      <td>1.200948</td>\n",
       "    </tr>\n",
       "    <tr>\n",
       "      <th>2023-06-30</th>\n",
       "      <td>0.085730</td>\n",
       "      <td>1.389635</td>\n",
       "    </tr>\n",
       "    <tr>\n",
       "      <th>2023-09-30</th>\n",
       "      <td>0.011248</td>\n",
       "      <td>1.416513</td>\n",
       "    </tr>\n",
       "    <tr>\n",
       "      <th>2023-12-31</th>\n",
       "      <td>0.118410</td>\n",
       "      <td>1.702654</td>\n",
       "    </tr>\n",
       "    <tr>\n",
       "      <th>2024-03-31</th>\n",
       "      <td>0.086077</td>\n",
       "      <td>1.935289</td>\n",
       "    </tr>\n",
       "  </tbody>\n",
       "</table>\n",
       "</div>"
      ],
      "text/plain": [
       "             QUARTERLY_PORTFOLIO_RETURN  CUMULATIVE_RETURN\n",
       "QUARTER_END                                               \n",
       "2018-03-31                     0.000000           0.000000\n",
       "2018-06-30                     0.001435           0.001435\n",
       "2018-09-30                     0.000073           0.001508\n",
       "2018-12-31                    -0.208943          -0.207749\n",
       "2019-03-31                     0.090588          -0.135981\n",
       "2019-06-30                     0.048699          -0.093904\n",
       "2019-09-30                     0.014017          -0.081203\n",
       "2019-12-31                     0.103011           0.013443\n",
       "2020-03-31                    -0.282518          -0.272873\n",
       "2020-06-30                     0.236266          -0.101077\n",
       "2020-09-30                     0.138454           0.023383\n",
       "2020-12-31                     0.193042           0.220939\n",
       "2021-03-31                     0.211142           0.478730\n",
       "2021-06-30                     0.081453           0.599178\n",
       "2021-09-30                     0.032451           0.651072\n",
       "2021-12-31                     0.135248           0.874376\n",
       "2022-03-31                     0.063377           0.993169\n",
       "2022-06-30                    -0.071174           0.851307\n",
       "2022-09-30                     0.016841           0.882484\n",
       "2022-12-31                     0.140524           1.147019\n",
       "2023-03-31                     0.025118           1.200948\n",
       "2023-06-30                     0.085730           1.389635\n",
       "2023-09-30                     0.011248           1.416513\n",
       "2023-12-31                     0.118410           1.702654\n",
       "2024-03-31                     0.086077           1.935289"
      ]
     },
     "execution_count": 8,
     "metadata": {},
     "output_type": "execute_result"
    }
   ],
   "source": [
    "quarterly_portfolio_returns"
   ]
  },
  {
   "cell_type": "markdown",
   "metadata": {},
   "source": [
    "#### Annualised Return \n",
    "You might notice that we are not just averaging quarterly returns and multiplying it by 4. We are taking into account the reinvesting of the profits. It is based on the concept of compounding returns over multiple periods. This approach takes into account the effect of earnings being reinvested at the end of each quarter and generating additional earnings in subsequent quarters. It's a more accurate reflection of how returns accumulate over time, especially when dealing with variable quarterly returns.\n",
    "\n",
    "On the other hand, simply calculating the mean quarterly return and multiplying it by 4 (to annualize it) assumes a constant return rate for each quarter and does not account for compounding. This method might give you an approximation but can significantly understate or overstate returns when the quarterly returns are volatile or significantly varied."
   ]
  },
  {
   "cell_type": "code",
   "execution_count": 9,
   "metadata": {},
   "outputs": [],
   "source": [
    "annualized_return = (1 + quarterly_portfolio_returns['QUARTERLY_PORTFOLIO_RETURN']).prod() ** (4 / len(quarterly_portfolio_returns)) - 1\n"
   ]
  },
  {
   "cell_type": "code",
   "execution_count": 33,
   "metadata": {},
   "outputs": [
    {
     "name": "stdout",
     "output_type": "stream",
     "text": [
      "Average returns are: 20.32913385235915\n"
     ]
    }
   ],
   "source": [
    "# average returns which doesn't take into effect the compounding and reinvesting of those profits. \n",
    "print(f\"Average returns are: {(quarterly_portfolio_returns['QUARTERLY_PORTFOLIO_RETURN'].mean()*4)*100}\")"
   ]
  },
  {
   "cell_type": "code",
   "execution_count": 10,
   "metadata": {},
   "outputs": [
    {
     "name": "stdout",
     "output_type": "stream",
     "text": [
      "The annualised return of the portfolio is 18.802107155938796 %\n"
     ]
    }
   ],
   "source": [
    "print(f\"The annualised return of the portfolio is {annualized_return*100} %\")"
   ]
  },
  {
   "cell_type": "markdown",
   "metadata": {},
   "source": [
    "The annual return of 18.8% is generally considered very good which beats the market by roughly 2 % for the last 5 years (2024-2019), which had annualised return of 16.35% as at 01 March 2024. Let's analyse how good is it when we measure the risk of the portfolio. "
   ]
  },
  {
   "cell_type": "markdown",
   "metadata": {},
   "source": [
    "### Risk Metrics\n",
    "Ideally we would need daily data to calculate these risk metrics. For simplification of the problem we would assume that we are only concerned at quarterly performance and not intra-quarter performance metrics. In real world, you would perhaps want to calculate these metrics using the daily data. \n"
   ]
  },
  {
   "cell_type": "markdown",
   "metadata": {},
   "source": [
    "#### Volatility"
   ]
  },
  {
   "cell_type": "code",
   "execution_count": 11,
   "metadata": {},
   "outputs": [],
   "source": [
    "volatility = quarterly_portfolio_returns['QUARTERLY_PORTFOLIO_RETURN'].std() * np.sqrt(4)  # Annualize the volatility\n"
   ]
  },
  {
   "cell_type": "code",
   "execution_count": 12,
   "metadata": {},
   "outputs": [
    {
     "name": "stdout",
     "output_type": "stream",
     "text": [
      "The annualised volatility of the portfolio is 23.157236890818687% indicating high variability and some level of risk inherent in the strategy with a potential to earn greater profit\n"
     ]
    }
   ],
   "source": [
    "print(f\"The annualised volatility of the portfolio is {volatility*100}% indicating high variability and some level of risk inherent in the strategy with a potential to earn greater profit\")"
   ]
  },
  {
   "cell_type": "markdown",
   "metadata": {},
   "source": [
    "#### Sharpe Ratio \n",
    "- The Sharpe ratio evaluates the performance of an investment compared to a risk-free asset, after adjusting for its risk."
   ]
  },
  {
   "cell_type": "code",
   "execution_count": 13,
   "metadata": {},
   "outputs": [],
   "source": [
    "risk_free_rate = 0.02  # Assume a risk-free rate of 2%\n",
    "sharpe_ratio = (annualized_return - risk_free_rate) / volatility\n"
   ]
  },
  {
   "cell_type": "code",
   "execution_count": 14,
   "metadata": {},
   "outputs": [
    {
     "data": {
      "text/plain": [
       "0.7255661474275649"
      ]
     },
     "execution_count": 14,
     "metadata": {},
     "output_type": "execute_result"
    }
   ],
   "source": [
    "sharpe_ratio"
   ]
  },
  {
   "cell_type": "markdown",
   "metadata": {},
   "source": [
    "#### Max drawdown"
   ]
  },
  {
   "cell_type": "code",
   "execution_count": 83,
   "metadata": {},
   "outputs": [
    {
     "name": "stdout",
     "output_type": "stream",
     "text": [
      " The portfolio on a quarterly basis has a max drawdown of: -28.25177957954396 %\n",
      "----------------\n",
      "You'd also notice that its during the peak of the pandemic (March 2020)\n"
     ]
    }
   ],
   "source": [
    "print(f\" The portfolio on a quarterly basis has a max drawdown of: {quarterly_portfolio_returns['QUARTERLY_PORTFOLIO_RETURN'].min()* 100} %\" )\n",
    "print(\"----------------\")\n",
    "print(\"You'd also notice that its during the peak of the pandemic (March 2020)\")"
   ]
  },
  {
   "cell_type": "code",
   "execution_count": 42,
   "metadata": {},
   "outputs": [
    {
     "data": {
      "text/html": [
       "<div>\n",
       "<style scoped>\n",
       "    .dataframe tbody tr th:only-of-type {\n",
       "        vertical-align: middle;\n",
       "    }\n",
       "\n",
       "    .dataframe tbody tr th {\n",
       "        vertical-align: top;\n",
       "    }\n",
       "\n",
       "    .dataframe thead th {\n",
       "        text-align: right;\n",
       "    }\n",
       "</style>\n",
       "<table border=\"1\" class=\"dataframe\">\n",
       "  <thead>\n",
       "    <tr style=\"text-align: right;\">\n",
       "      <th></th>\n",
       "      <th>QUARTER_END</th>\n",
       "      <th>QUARTERLY_PORTFOLIO_RETURN</th>\n",
       "      <th>CUMULATIVE_RETURN</th>\n",
       "    </tr>\n",
       "  </thead>\n",
       "  <tbody>\n",
       "    <tr>\n",
       "      <th>8</th>\n",
       "      <td>2020-03-31</td>\n",
       "      <td>-0.282518</td>\n",
       "      <td>-0.272873</td>\n",
       "    </tr>\n",
       "  </tbody>\n",
       "</table>\n",
       "</div>"
      ],
      "text/plain": [
       "  QUARTER_END  QUARTERLY_PORTFOLIO_RETURN  CUMULATIVE_RETURN\n",
       "8  2020-03-31                   -0.282518          -0.272873"
      ]
     },
     "execution_count": 42,
     "metadata": {},
     "output_type": "execute_result"
    }
   ],
   "source": [
    "quarterly_portfolio_returns.reset_index()[quarterly_portfolio_returns.reset_index()['QUARTERLY_PORTFOLIO_RETURN']==quarterly_portfolio_returns.reset_index()['QUARTERLY_PORTFOLIO_RETURN'].min()]"
   ]
  },
  {
   "cell_type": "markdown",
   "metadata": {},
   "source": [
    "#### Tear Sheet (Metrics and Values)"
   ]
  },
  {
   "cell_type": "code",
   "execution_count": 84,
   "metadata": {},
   "outputs": [],
   "source": [
    "from dateutil.relativedelta import relativedelta\n",
    "num_of_years_backtest = (relativedelta(pd.to_datetime(quarterly_portfolio_returns.reset_index()[\"QUARTER_END\"]).max(), pd.to_datetime(quarterly_portfolio_returns.reset_index()[\"QUARTER_END\"]).min()).years )"
   ]
  },
  {
   "cell_type": "code",
   "execution_count": 77,
   "metadata": {},
   "outputs": [],
   "source": [
    "tear_sheet = pd.DataFrame(columns= [\"Metric\", \"Value\"])\n",
    "\n",
    "tear_sheet[\"Metric\"] = [\"Annualized Return(%)\",\"Absolute Returns(%)\", \"Sharpe Ratio\", \"Max Drawdown(%)\", \"Volatily(%)\", \n",
    "                        \"Backtest (Years)\" , \"Backtest (Quarters)\"]\n",
    "tear_sheet[\"Value\"] = [annualized_return*100, quarterly_portfolio_returns[\"QUARTERLY_PORTFOLIO_RETURN\"].sum()*100, \n",
    "                       sharpe_ratio, quarterly_portfolio_returns['QUARTERLY_PORTFOLIO_RETURN'].min()* 100, volatility, int(num_of_years), \n",
    "                       len(quarterly_portfolio_returns)]"
   ]
  },
  {
   "cell_type": "code",
   "execution_count": 79,
   "metadata": {},
   "outputs": [
    {
     "data": {
      "text/html": [
       "<div>\n",
       "<style scoped>\n",
       "    .dataframe tbody tr th:only-of-type {\n",
       "        vertical-align: middle;\n",
       "    }\n",
       "\n",
       "    .dataframe tbody tr th {\n",
       "        vertical-align: top;\n",
       "    }\n",
       "\n",
       "    .dataframe thead th {\n",
       "        text-align: right;\n",
       "    }\n",
       "</style>\n",
       "<table border=\"1\" class=\"dataframe\">\n",
       "  <thead>\n",
       "    <tr style=\"text-align: right;\">\n",
       "      <th></th>\n",
       "      <th>Metric</th>\n",
       "      <th>Value</th>\n",
       "    </tr>\n",
       "  </thead>\n",
       "  <tbody>\n",
       "    <tr>\n",
       "      <th>0</th>\n",
       "      <td>Annualized Return(%)</td>\n",
       "      <td>18.802107</td>\n",
       "    </tr>\n",
       "    <tr>\n",
       "      <th>1</th>\n",
       "      <td>Absolute Returns(%)</td>\n",
       "      <td>127.057087</td>\n",
       "    </tr>\n",
       "    <tr>\n",
       "      <th>2</th>\n",
       "      <td>Sharpe Ratio</td>\n",
       "      <td>0.725566</td>\n",
       "    </tr>\n",
       "    <tr>\n",
       "      <th>3</th>\n",
       "      <td>Max Drawdown(%)</td>\n",
       "      <td>-28.251780</td>\n",
       "    </tr>\n",
       "    <tr>\n",
       "      <th>4</th>\n",
       "      <td>Volatily(%)</td>\n",
       "      <td>0.231572</td>\n",
       "    </tr>\n",
       "    <tr>\n",
       "      <th>5</th>\n",
       "      <td>Backtest (Years)</td>\n",
       "      <td>6.000000</td>\n",
       "    </tr>\n",
       "    <tr>\n",
       "      <th>6</th>\n",
       "      <td>Backtest (Quarters)</td>\n",
       "      <td>25.000000</td>\n",
       "    </tr>\n",
       "  </tbody>\n",
       "</table>\n",
       "</div>"
      ],
      "text/plain": [
       "                 Metric       Value\n",
       "0  Annualized Return(%)   18.802107\n",
       "1   Absolute Returns(%)  127.057087\n",
       "2          Sharpe Ratio    0.725566\n",
       "3       Max Drawdown(%)  -28.251780\n",
       "4           Volatily(%)    0.231572\n",
       "5      Backtest (Years)    6.000000\n",
       "6   Backtest (Quarters)   25.000000"
      ]
     },
     "execution_count": 79,
     "metadata": {},
     "output_type": "execute_result"
    }
   ],
   "source": [
    "tear_sheet"
   ]
  },
  {
   "cell_type": "markdown",
   "metadata": {},
   "source": [
    "### Conclusion \n",
    "The portfolio using a thematic investment strategy like Greenblatt's Magic formula which ranks companies based on ROC, and Earnings yield provides a good annualised return (18% wohu!) but that comes with a higher risk with Sharpe ratio less than <1. A high sharpe ratio can be used to judge the profitability of the portfolio adjusted with risk it takes. \n",
    "\n",
    "Further exploration can be done to enhance these metrics and possibly create multiple theme based strategies. There could be a way to build a machine learning model that uses these features and perhaps increase the sharpe ratio and still hold those returns.\n",
    "\n",
    "Another assumption we made is that we used the quarterly returns to calculate these risk metrics as we are only going to rebalance the portfolio every quarter to make it easy for a mom and pop investor. \n",
    "\n",
    "All in all, its my take to read the data from financial modelling prep, upload to a data warehouse, then read from there to build a simple trading strategy. You could use this to create a data product like a stock screener, or even launch a theme based investment portfolio which creates these themes and then allow a mom & pop investor to invest freely with buy and hold strategies that have survived the test of markets in the long run."
   ]
  },
  {
   "cell_type": "markdown",
   "metadata": {},
   "source": []
  }
 ],
 "metadata": {
  "kernelspec": {
   "display_name": "myenv",
   "language": "python",
   "name": "python3"
  },
  "language_info": {
   "codemirror_mode": {
    "name": "ipython",
    "version": 3
   },
   "file_extension": ".py",
   "mimetype": "text/x-python",
   "name": "python",
   "nbconvert_exporter": "python",
   "pygments_lexer": "ipython3",
   "version": "3.9.6"
  }
 },
 "nbformat": 4,
 "nbformat_minor": 2
}
